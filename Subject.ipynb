{
 "cells": [
  {
   "cell_type": "markdown",
   "metadata": {},
   "source": [
    "You should solve the MNIST problems and be able to recognize digit thanks to AI."
   ]
  },
  {
   "cell_type": "code",
   "execution_count": 1,
   "metadata": {},
   "outputs": [],
   "source": [
    "import torch\n",
    "from torchvision import datasets, transforms\n",
    "import torch.nn.functional as F\n",
    "import numpy as np\n",
    "import matplotlib.pyplot as plt"
   ]
  },
  {
   "cell_type": "code",
   "execution_count": 2,
   "metadata": {},
   "outputs": [],
   "source": [
    "# Transform each image into tensor ( numpy array => Tensor )\n",
    "# Normalize data to win time in gradient descent\n",
    "transform = transforms.Compose([transforms.ToTensor(), transforms.Normalize((0.1307,), (0.3081,))])\n",
    "\n",
    "# define batch size to regroup all images into slot of 64 images\n",
    "batch_size = 64\n",
    "\n",
    "# set train loader\n",
    "train_loader = torch.utils.data.DataLoader(datasets.MNIST('../data', train=True, download=True, transform=transform), batch_size=batch_size)\n",
    "# set test loader\n",
    "test_loader = torch.utils.data.DataLoader(datasets.MNIST('../data', train=False, download=True, transform=transform), batch_size=batch_size)"
   ]
  },
  {
   "cell_type": "code",
   "execution_count": 3,
   "metadata": {},
   "outputs": [],
   "source": [
    "# set random weight for prediction\n",
    "weight = torch.randn(784, 10, requires_grad=True)"
   ]
  },
  {
   "cell_type": "code",
   "execution_count": 8,
   "metadata": {},
   "outputs": [],
   "source": [
    "def test(weights, test_loader):\n",
    "    test_size = len(test_loader.dataset)\n",
    "    correct = 0\n",
    "\n",
    "    for batch_idx, (data, target) in enumerate(test_loader):\n",
    "        # reshape each image, to follow generate activation value\n",
    "        data = data.view((-1, 28*28))\n",
    "        \n",
    "        # generate activation value for each neuron\n",
    "        outputs = torch.matmul(data, weights)\n",
    "        \n",
    "        # Transform value between 0 and 1\n",
    "        softmax = F.softmax(outputs, dim=1)\n",
    "        \n",
    "        # Get the highest value / prediction\n",
    "        pred = softmax.argmax(dim=1, keepdim=True)\n",
    "        \n",
    "        # calculate the number of good predictions to make an average\n",
    "        n_correct = pred.eq(target.view_as(pred)).sum().item()\n",
    "        correct += n_correct\n",
    "\n",
    "    acc = correct / test_size # make average\n",
    "    print(\" Accuracy on test set\", acc)\n",
    "    return"
   ]
  },
  {
   "cell_type": "code",
   "execution_count": 9,
   "metadata": {},
   "outputs": [
    {
     "name": "stdout",
     "output_type": "stream",
     "text": [
      "Loss shape: 1.77189302444458452 Accuracy on test set 0.8537\n",
      "Loss shape: 2.19386982917785646 Accuracy on test set 0.8594\n",
      "Loss shape: 0.86868327856063845 Accuracy on test set 0.8653\n",
      "Loss shape: 1.52300310134887755 Accuracy on test set 0.8651\n",
      "Loss shape: 2.04420590400695867 Accuracy on test set 0.8656\n",
      "Loss shape: 0.75222319364547734 Accuracy on test set 0.8635\n",
      "Loss shape: 1.61993575096130377 Accuracy on test set 0.8656\n",
      "Loss shape: 1.47390568256378175 Accuracy on test set 0.867\n",
      "Loss shape: 0.77408719062805183 Accuracy on test set 0.8677\n",
      "Loss shape: 0.807728052139282267"
     ]
    }
   ],
   "source": [
    "# train AI\n",
    "\n",
    "def train_ai(weight, train_loader):\n",
    "    it = 0\n",
    "    for batch_idx, (data, targets) in enumerate(train_loader):\n",
    "        # Reset my weight\n",
    "        if weight.grad is not None:\n",
    "            weight.grad.zero_()\n",
    "\n",
    "        # reshape each image, to follow generate activation value\n",
    "        data = data.view((-1, 28*28))\n",
    "        \n",
    "        # Get output of 10 neuron / prediction\n",
    "        outputs = torch.matmul(data, weight)\n",
    "\n",
    "        # Calculate loss\n",
    "        log_softmax = F.log_softmax(outputs, dim=1)\n",
    "        loss = F.nll_loss(log_softmax, targets)\n",
    "        print(\"\\rLoss shape: {}\".format(loss), end=\"\")\n",
    "\n",
    "        # Backtracking, to minimize error\n",
    "        loss.backward()\n",
    "\n",
    "        with torch.no_grad():\n",
    "            weight -= 0.1*weight.grad\n",
    "\n",
    "        it += 1\n",
    "        if it % 100 == 0:\n",
    "            test(weight, test_loader)\n",
    "\n",
    "        if it > 5000:\n",
    "            break\n",
    "            \n",
    "train_ai(weight, train_loader)\n",
    "\n"
   ]
  },
  {
   "cell_type": "code",
   "execution_count": 12,
   "metadata": {},
   "outputs": [
    {
     "name": "stdout",
     "output_type": "stream",
     "text": [
      "Le nombre est 9\n"
     ]
    },
    {
     "data": {
      "image/png": "[encoded data removed]",
      "text/plain": [
       "<Figure size 432x288 with 1 Axes>"
      ]
     },
     "metadata": {
      "needs_background": "light"
     },
     "output_type": "display_data"
    }
   ],
   "source": [
    "# Get test data\n",
    "batch_idx, (data, target) = next(enumerate(test_loader))\n",
    "data = data.view((-1, 28*28))\n",
    "\n",
    "outputs = torch.matmul(data, weight)\n",
    "softmax = F.softmax(outputs, dim=1)\n",
    "pred = softmax.argmax(dim=1, keepdim=True)\n",
    "\n",
    "plt.imshow(data[16].view(28, 28), cmap=\"gray\")\n",
    "print(\"Le nombre est\", int(pred[16]))\n",
    "plt.show()"
   ]
  },
  {
   "cell_type": "code",
   "execution_count": null,
   "metadata": {},
   "outputs": [],
   "source": []
  }
 ],
 "metadata": {
  "interpreter": {
   "hash": "916dbcbb3f70747c44a77c7bcd40155683ae19c65e1c03b4aa3499c5328201f1"
  },
  "kernelspec": {
   "display_name": "Python 3 (ipykernel)",
   "language": "python",
   "name": "python3"
  },
  "language_info": {
   "codemirror_mode": {
    "name": "ipython",
    "version": 3
   },
   "file_extension": ".py",
   "mimetype": "text/x-python",
   "name": "python",
   "nbconvert_exporter": "python",
   "pygments_lexer": "ipython3",
   "version": "3.9.10"
  }
 },
 "nbformat": 4,
 "nbformat_minor": 2
}
